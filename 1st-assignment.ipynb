{
 "cells": [
  {
   "cell_type": "markdown",
   "metadata": {
    "collapsed": true,
    "pycharm": {
     "name": "#%% md\n"
    }
   },
   "source": [
    "# Part A\n",
    "#### Question 1\n",
    "\n",
    "Given:\n",
    "$$\\large \\mu_1=(0.4, 0.8), \\mu_2=(1.5, 2.7)$$\n",
    "$$\\large \\Sigma = \\begin{bmatrix}\n",
    "1.5 & 0 \\\\\n",
    "0 & 0.8\n",
    "\\end{bmatrix}$$\n",
    "$$\\large P(\\omega_1) = 0.95, P(\\omega_2) = 0.05 $$\n",
    "Calculate\n",
    "$$\\large p(x|\\omega_1), p(x|\\omega_2)$$\n",
    "\n",
    "#### Answer\n",
    "We know that:\n",
    "$$\\large p\\left(\\boldsymbol{x} \\mid \\omega_i\\right)=\\frac{1}{(2 \\pi)^{d / 2}|\\boldsymbol{\\Sigma}|^{1 / 2}} \\exp \\left[-\\frac{1}{2}(\\boldsymbol{x}-\\boldsymbol{\\mu})^t \\boldsymbol{\\Sigma}^{-1}(\\boldsymbol{x}-\\boldsymbol{\\mu})\\right]\n",
    "$$\n",
    "So we can convert the equation to python code in order to calculate $\\large p(x|\\omega_1), p(x|\\omega_2)$\n"
   ]
  },
  {
   "cell_type": "code",
   "execution_count": 2,
   "outputs": [],
   "source": [
    "# Run this cell before anything else in order to import the necessary libraries and make the necessary variable declarations\n",
    "import numpy as np\n",
    "import scipy as sc\n",
    "\n",
    "mu_1 = np.array([0.4, 0.8])\n",
    "mu_2 = np.array([1.5, 2.7])\n",
    "\n",
    "p_omega_1 = 0.95\n",
    "p_omega_2 = 0.05\n",
    "\n",
    "sigma = np.array([[1.5, 0], [0, .8]])\n",
    "x = np.array([1, 0])"
   ],
   "metadata": {
    "collapsed": false,
    "pycharm": {
     "name": "#%%\n"
    }
   }
  },
  {
   "cell_type": "code",
   "execution_count": 5,
   "outputs": [
    {
     "name": "stdout",
     "output_type": "stream",
     "text": [
      "0.08637665427744069\n",
      "0.001403731574178327\n"
     ]
    }
   ],
   "source": [
    "# Answer to question 1\n",
    "def distribution_value(x, mu, sigma):\n",
    "    d = mu.shape[0]\n",
    "    p = np.zeros(x.shape[0])\n",
    "    p = 1 / (pow((2 * np.pi), (d / 2)) * np.sqrt(np.linalg.det(sigma))) * np.exp(\n",
    "        -0.5 * np.matmul(np.matmul(np.transpose(x - mu), np.linalg.inv(sigma)), (x - mu)))\n",
    "    return p\n",
    "\n",
    "\n",
    "print(distribution_value(x, mu_1, sigma))\n",
    "print(distribution_value(x, mu_2, sigma))"
   ],
   "metadata": {
    "collapsed": false,
    "pycharm": {
     "name": "#%%\n"
    }
   }
  },
  {
   "cell_type": "code",
   "execution_count": null,
   "outputs": [],
   "source": [],
   "metadata": {
    "collapsed": false,
    "pycharm": {
     "name": "#%%\n"
    }
   }
  }
 ],
 "metadata": {
  "kernelspec": {
   "display_name": "Python 3",
   "language": "python",
   "name": "python3"
  },
  "language_info": {
   "codemirror_mode": {
    "name": "ipython",
    "version": 2
   },
   "file_extension": ".py",
   "mimetype": "text/x-python",
   "name": "python",
   "nbconvert_exporter": "python",
   "pygments_lexer": "ipython2",
   "version": "2.7.6"
  }
 },
 "nbformat": 4,
 "nbformat_minor": 0
}